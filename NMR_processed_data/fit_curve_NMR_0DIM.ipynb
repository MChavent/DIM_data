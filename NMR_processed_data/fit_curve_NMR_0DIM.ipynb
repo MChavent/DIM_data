{
 "cells": [
  {
   "cell_type": "code",
   "execution_count": 2,
   "metadata": {},
   "outputs": [],
   "source": [
    "#importing numpy\n",
    "import numpy as np\n",
    "\n",
    "# importing matplotlib to perform figures\n",
    "import matplotlib.pyplot as plt\n",
    "\n",
    "from scipy.optimize import curve_fit"
   ]
  },
  {
   "cell_type": "code",
   "execution_count": 3,
   "metadata": {},
   "outputs": [],
   "source": [
    "\n",
    "list_temp=[]\n",
    "list_PC=[]\n",
    "list_PE=[]\n",
    "counter=0\n",
    "file = open('RMN_31P_fit_0perc_DIM.csv', \"r\")\n",
    "\n",
    "for line in file.readlines():\n",
    "\n",
    "    if counter > 0:\n",
    "        line_values = line.split()\n",
    "        values = [float(x) for x in line_values]\n",
    "        list_temp.append(int(values[0]))\n",
    "        list_PC.append(values[1])\n",
    "        list_PE.append(values[2])        \n",
    "    counter=counter+1\n"
   ]
  },
  {
   "cell_type": "code",
   "execution_count": 16,
   "metadata": {},
   "outputs": [
    {
     "data": {
      "image/png": "[encoded data removed]",
      "text/plain": [
       "<Figure size 612x504 with 1 Axes>"
      ]
     },
     "metadata": {},
     "output_type": "display_data"
    }
   ],
   "source": [
    "xdata = np.linspace(284, 326, 100)\n",
    "\n",
    "def sigmoid(x, xo,k, A):\n",
    "    y = A-A/(1+ np.exp(-k*(x-xo)))\n",
    "    return y\n",
    "\n",
    "p_start1=[284,0.3,120]\n",
    "p_start2=[284,0.3,80]\n",
    "\n",
    "list_err=[5] * len(list_temp)\n",
    "\n",
    "\n",
    "fig = plt.figure(figsize=(8.5, 7))\n",
    "ax = fig.add_subplot(111)\n",
    "\n",
    "yerr = 5.0\n",
    "\n",
    "#ax.plot(xdata, sigmoid(xdata, *popt1), \"--\", color='#d55e00')\n",
    "ax.errorbar(list_temp, list_PC, yerr=yerr, linewidth=0.5, linestyle='None', capsize=4, color='#cc4c02')\n",
    "ax.plot(list_temp, list_PC,'H', markersize=7, mew='1.0', color='#fdcc8a')\n",
    "ax.plot(list_temp, list_PC,'H', markersize=7, mew='1.0', color='#cc4c02',markerfacecolor='none')\n",
    "\n",
    "#ax.plot(xdata, sigmoid(xdata, *popt2), \"-\", color='#d55e00')\n",
    "ax.errorbar(list_temp, list_PE, yerr=yerr, linewidth=0.5, ls='none', capsize=4, color='#238443')\n",
    "ax.plot(list_temp, list_PE,'H', markersize=7, mew='1.0', color='#c2e699')\n",
    "ax.plot(list_temp, list_PE,'H', markersize=7, mew='1.0', color='#238443',markerfacecolor='none')\n",
    "\n",
    "plt.ylim(-10,110)\n",
    "\n",
    "fig.savefig(\"DIM0_fit_red_blue.svg\", dpi=200)"
   ]
  },
  {
   "cell_type": "code",
   "execution_count": null,
   "metadata": {},
   "outputs": [],
   "source": []
  }
 ],
 "metadata": {
  "kernelspec": {
   "display_name": "Python 2",
   "language": "python",
   "name": "python2"
  },
  "language_info": {
   "codemirror_mode": {
    "name": "ipython",
    "version": 2
   },
   "file_extension": ".py",
   "mimetype": "text/x-python",
   "name": "python",
   "nbconvert_exporter": "python",
   "pygments_lexer": "ipython2",
   "version": "2.7.12"
  }
 },
 "nbformat": 4,
 "nbformat_minor": 2
}
